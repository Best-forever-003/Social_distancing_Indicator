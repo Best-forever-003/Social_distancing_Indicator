{
  "nbformat": 4,
  "nbformat_minor": 0,
  "metadata": {
    "colab": {
      "name": "social_distancing.gcc",
      "provenance": [],
      "collapsed_sections": []
    },
    "kernelspec": {
      "name": "python3",
      "display_name": "Python 3"
    },
    "language_info": {
      "name": "python"
    }
  },
  "cells": [
    {
      "cell_type": "markdown",
      "metadata": {
        "id": "A0WO3fGWF0Z9"
      },
      "source": [
        "**TEAM NAME : PANIMALARIANS**\n",
        "\n",
        "**TEAM MEMBERS: AAMIR P, DHARVISH R D, PRADEEP NANDHA V, NELAVALLI MUNISEKHAR**"
      ]
    },
    {
      "cell_type": "code",
      "metadata": {
        "colab": {
          "base_uri": "https://localhost:8080/"
        },
        "id": "Ksis5z94BOzM",
        "outputId": "0bac2740-3604-41ca-a923-077d85573a9e"
      },
      "source": [
        "%%writefile social_distancing.c\n",
        "#include <Adafruit_NeoPixel.h>\n",
        "\n",
        "int ledPin= 3;\n",
        "int ledNo= 12;\n",
        "\n",
        "Adafruit_NeoPixel strip= Adafruit_NeoPixel(ledNo,ledPin,NEO_RGB+NEO_KHZ800);\n",
        "\n",
        "\n",
        "int buzzerPin= 2;\n",
        "int echoPin= 6;\n",
        "int trigPin= 5;\n",
        "int minDistance = 100;\n",
        "int maxDistance = 300;\n",
        "\n",
        "void setup() \n",
        "{\n",
        "  pinMode(buzzerPin, OUTPUT);\n",
        "  pinMode(trigPin, OUTPUT);\n",
        "  pinMode(echoPin, INPUT);\n",
        "  Serial. begin(9600);  \n",
        "  strip.begin();\n",
        "  for(int i = 0; i < ledNo; i++)\n",
        "  {\n",
        "   strip.setPixelColor(i,strip.Color(0,0,0));\n",
        "  }\n",
        "  strip.show();\n",
        "}\n",
        "\n",
        "void loop() \n",
        "{\n",
        "  int distance = calcDistance();\n",
        "  Serial.println(distance);\n",
        "  int ledsToGlow = map(distance, minDistance, maxDistance, ledNo, 1);\n",
        "  Serial.println(ledsToGlow);\n",
        "  if(ledsToGlow == 12)\n",
        "  {\n",
        "    digitalWrite(buzzerPin, HIGH);\n",
        "  }\n",
        "  else\n",
        "  {\n",
        "    digitalWrite(buzzerPin, LOW);\n",
        "  }\n",
        "  for(int i = 0; i < ledsToGlow; i++)\n",
        "  {\n",
        "    if(i < 4)\n",
        "    {\n",
        "      strip.setPixelColor(i,strip.Color(50,0,0));//green,red,blue\n",
        "    }\n",
        "    else if(i >= 4 && i < 8)\n",
        "    {\n",
        "      strip.setPixelColor(i,strip.Color(50,50,0));//green,red,blue\n",
        "    }\n",
        "    else if(i >= 8 && i < 12)\n",
        "    {\n",
        "      strip.setPixelColor(i,strip.Color(0,50,0));//green,red,blue\n",
        "    }\n",
        "  }\n",
        "  for(int i = ledsToGlow; i < ledNo; i++)\n",
        "  {\n",
        "    strip.setPixelColor(i,strip.Color(0,0,0));\n",
        "  }\n",
        "  strip.show();\n",
        "  delay(50);\n",
        "}\n",
        "\n",
        "int calcDistance()\n",
        "{\n",
        "  long distance,duration;\n",
        "  digitalWrite(trigPin, LOW);\n",
        "  delayMicroseconds(2);\n",
        "  digitalWrite(trigPin, HIGH);\n",
        "  delayMicroseconds(10);\n",
        "  digitalWrite(trigPin, LOW);\n",
        "  duration = pulseIn(echoPin, HIGH);\n",
        "  distance = duration/29/2;\n",
        "  if(distance >= maxDistance)\n",
        "  {\n",
        "    distance = maxDistance;\n",
        "  }\n",
        "  if(distance <= minDistance)\n",
        "  {\n",
        "    distance = minDistance;\n",
        "  }\n",
        "  return distance;\n",
        "}\n",
        "%%shell\n",
        "gcc social_distancing.c -o output\n",
        "./output\n"
      ],
      "execution_count": 18,
      "outputs": [
        {
          "output_type": "stream",
          "text": [
            "Overwriting social_distancing.c\n"
          ],
          "name": "stdout"
        }
      ]
    }
  ]
}